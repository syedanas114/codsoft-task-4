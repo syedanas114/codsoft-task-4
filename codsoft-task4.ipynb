{
 "cells": [
  {
   "cell_type": "code",
   "execution_count": null,
   "id": "6cd994a4-4690-4bdd-a4a8-2c1079994420",
   "metadata": {},
   "outputs": [],
   "source": [
    "import pandas as pd\n",
    "from sklearn.model_selection import train_test_split\n",
    "from sklearn.feature_extraction.text import TfidfVectorizer\n",
    "from sklearn.naive_bayes import MultinomialNB\n",
    "from sklearn.metrics import accuracy_score, classification_report\n",
    "\n",
    "# Path to the dataset\n",
    "file_path = \"C:\\\\Users\\\\SYED ANAS\\\\Downloads\\\\spam.csv\"\n",
    "\n",
    "try:\n",
    "    # Load the dataset\n",
    "    df = pd.read_csv(file_path, encoding='ISO-8859-1')\n",
    "    \n",
    "    # Display the first few rows to understand the dataset\n",
    "    print(\"First few rows of the dataset:\")\n",
    "    print(df.head())\n",
    "\n",
    "    # Rename columns for clarity and drop unnecessary ones\n",
    "    df = df.rename(columns={\"v1\": \"label\", \"v2\": \"message\"})\n",
    "    df = df.drop(['Unnamed: 2', 'Unnamed: 3', 'Unnamed: 4'], axis=1)\n",
    "\n",
    "    # Map 'ham' to 0 and 'spam' to 1\n",
    "    df['label'] = df['label'].map({'ham': 0, 'spam': 1})\n",
    "\n",
    "    # Split the dataset into training and testing sets\n",
    "    X_train, X_test, y_train, y_test = train_test_split(df['message'], df['label'], test_size=0.2, random_state=42)\n",
    "\n",
    "    # Convert text data to TF-IDF features\n",
    "    vectorizer = TfidfVectorizer(stop_words='english')\n",
    "    X_train_tfidf = vectorizer.fit_transform(X_train)\n",
    "    X_test_tfidf = vectorizer.transform(X_test)\n",
    "\n",
    "    # Initialize and train the Naive Bayes classifier\n",
    "    model = MultinomialNB()\n",
    "    model.fit(X_train_tfidf, y_train)\n",
    "\n",
    "    # Make predictions on the test set\n",
    "    y_pred = model.predict(X_test_tfidf)\n",
    "\n",
    "    # Evaluate the model\n",
    "    accuracy = accuracy_score(y_test, y_pred)\n",
    "    print(f\"Accuracy: {accuracy}\")\n",
    "    \n",
    "    # Print a detailed classification report\n",
    "    report = classification_report(y_test, y_pred)\n",
    "    print(\"Classification Report:\")\n",
    "    print(report)\n",
    "\n",
    "except FileNotFoundError:\n",
    "    print(f\"File not found: {file_path}\")\n",
    "except pd.errors.EmptyDataError:\n",
    "    print(\"The file is empty.\")\n",
    "except Exception as e:\n",
    "    print(f\"An error occurred: {e}\")\n"
   ]
  }
 ],
 "metadata": {
  "kernelspec": {
   "display_name": "Python 3 (ipykernel)",
   "language": "python",
   "name": "python3"
  },
  "language_info": {
   "codemirror_mode": {
    "name": "ipython",
    "version": 3
   },
   "file_extension": ".py",
   "mimetype": "text/x-python",
   "name": "python",
   "nbconvert_exporter": "python",
   "pygments_lexer": "ipython3",
   "version": "3.11.7"
  }
 },
 "nbformat": 4,
 "nbformat_minor": 5
}
